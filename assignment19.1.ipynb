{
 "cells": [
  {
   "cell_type": "markdown",
   "metadata": {},
   "source": [
    "Is gender independent of education level? A random sample of 395 people were\n",
    "surveyed and each person was asked to report the highest education level they\n",
    "obtained. The data that resulted from the survey is summarized in the following table:\n",
    "      High School Bachelors Masters Ph.d. Total\n",
    "Female   60            54     46       41  201\n",
    "Male     40            44     53       57  194\n",
    "Total    100           98     99       98  395\n",
    "\n",
    "Question: Are gender and education level dependent at 5% level of significance? In\n",
    "other words, given the data collected above, is there a relationship between the gender\n",
    "of an individual and the level of education that they have obtained?"
   ]
  },
  {
   "cell_type": "markdown",
   "metadata": {},
   "source": [
    "  This question is set up using the following hypothesis statements:\n",
    "\n",
    "Null Hypothesis: The gender and education level are independent.\n",
    "Alternative Hypothesis: The gender and education level are dependent.  \n",
    "    \n",
    "    E = Row Total * Column Total / sample size\n",
    "    Female\n",
    "    E1 = 201 * 100 / 395 = 50.88\n",
    "    E2 = 201 * 98 / 395 = 49.868\n",
    "    E3 = 201 * 99 / 395 = 50.377\n",
    "    E4 = 201 * 98 /395 = 49.868\n",
    "    Male\n",
    "    E1 = 194 * 100 / 395 = 49.114\n",
    "    E2 = 194 * 98 / 395 = 48.132\n",
    "    E3 = 194 * 99 / 395 = 48.623\n",
    "    E4 = 194 * 98 /395 = 48.132\n",
    "    \n",
    "    Here's the table of expected counts:\n",
    "     High School  Bachelors Masters  Ph.d. Total\n",
    "Female  50.886  49.868     50.377  49.868    201\n",
    "Male    49.114    48.132     48.623  48.132  194\n",
    "Total    100        98         99      98    395\n",
    "\n",
    "So, \n",
    "χ2=(60−50.886)2/50.886+(54-49.868)2/49.868+...+(57−48.132)2/48.132=8.006\n",
    "\n",
    "Degree of freedom = 4-1 = 3\n",
    "The critical value of χ2 with 3 degree of freedom is 7.815. \n",
    "Since 8.006 > 7.815, therefore we reject the null hypothesis and conclude that the \n",
    "education level depends on gender at a 5% level of significance."
   ]
  }
 ],
 "metadata": {
  "kernelspec": {
   "display_name": "Python 3",
   "language": "python",
   "name": "python3"
  },
  "language_info": {
   "codemirror_mode": {
    "name": "ipython",
    "version": 3
   },
   "file_extension": ".py",
   "mimetype": "text/x-python",
   "name": "python",
   "nbconvert_exporter": "python",
   "pygments_lexer": "ipython3",
   "version": "3.5.5"
  }
 },
 "nbformat": 4,
 "nbformat_minor": 2
}
